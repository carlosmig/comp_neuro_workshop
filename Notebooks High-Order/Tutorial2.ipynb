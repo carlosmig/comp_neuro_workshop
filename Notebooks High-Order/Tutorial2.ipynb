{
 "cells": [
  {
   "cell_type": "markdown",
   "id": "d3550617",
   "metadata": {},
   "source": [
    "# Tutorial I: information theory applied to fMRI\n",
    "\n",
    "### Dataset: \n",
    "- https://github.com/brincolab/High-Order-interactions/tree/master/dataset/timeseries\n",
    "- functional magnetic resonance imaging (fMRI) data was obtained at rest from 164 healthy subjects with ages ranging from 10 to 80 years \n",
    "\n",
    "### Objectives:\n",
    "\n",
    "Compute high-oder measures (**TC, DTC, O-info, S-info**) to characterize of a fMRI data using a parcellation of 20 brain modules:\n",
    "- Exhaustively analyzing all the interactions\n",
    "- Random search\n",
    "- Greedy search algorithm\n",
    "- Simulated annealing\n"
   ]
  },
  {
   "cell_type": "markdown",
   "id": "48a0928d-d284-4143-a74e-1a8e95c95f5f",
   "metadata": {},
   "source": [
    "---\n",
    "First, open an Anaconda prompt and create an environment with\n",
    "\n",
    "conda create -n thoi\n",
    "\n",
    "Then install the required packages\n",
    "\n",
    "pip install torch  --index-url https://download.pytorch.org/whl/cpu\n",
    "\n",
    "pip install thoi\n",
    "\n",
    "pip install numba\n",
    "\n",
    "pip install matplotlib"
   ]
  },
  {
   "cell_type": "code",
   "execution_count": 4,
   "id": "f6cd175e",
   "metadata": {
    "execution": {
     "iopub.execute_input": "2024-06-15T21:52:12.968903Z",
     "iopub.status.busy": "2024-06-15T21:52:12.968903Z",
     "iopub.status.idle": "2024-06-15T21:52:12.973064Z",
     "shell.execute_reply": "2024-06-15T21:52:12.973064Z",
     "shell.execute_reply.started": "2024-06-15T21:52:12.968903Z"
    }
   },
   "outputs": [],
   "source": [
    "import numpy as np\n",
    "import pandas as pd\n",
    "import matplotlib.pyplot as plt\n",
    "from functools import partial\n",
    "from thoi.collectors import batch_to_csv\n",
    "\n",
    "\n",
    "from thoi.measures.gaussian_copula import multi_order_measures, nplets_measures\n",
    "from thoi.heuristics import simulated_annealing, greedy\n",
    "from thoi.heuristics.simulated_annealing import random_sampler\n"
   ]
  },
  {
   "cell_type": "code",
   "execution_count": 5,
   "id": "41b0c796-627b-4982-a727-2efd924b1d16",
   "metadata": {
    "execution": {
     "iopub.execute_input": "2024-06-15T21:52:15.827183Z",
     "iopub.status.busy": "2024-06-15T21:52:15.827183Z",
     "iopub.status.idle": "2024-06-15T21:52:15.835302Z",
     "shell.execute_reply": "2024-06-15T21:52:15.835302Z",
     "shell.execute_reply.started": "2024-06-15T21:52:15.827183Z"
    },
    "jupyter": {
     "source_hidden": true
    }
   },
   "outputs": [],
   "source": [
    "# Functions.\n",
    "# list of ids to binary matrix\n",
    "def ids2binary(ids, N):\n",
    "    num_rows = len(ids)\n",
    "    binary_matrix = np.zeros((num_rows, N), dtype=bool)\n",
    "    rows = np.arange(num_rows)[:, None]\n",
    "    binary_matrix[rows, ids] = True\n",
    "\n",
    "    return binary_matrix\n",
    "\n",
    "# defining function for extracting maximum and minimum per order and global\n",
    "\n",
    "def get_max_min_meas(ints_k, ints_measures_k):\n",
    "    norders = len(ints_k)\n",
    "    nmeas = 4\n",
    "    \n",
    "    # Search maximum and minimum\n",
    "    max_id = [np.argmax(x, axis=0) for x in ints_measures_k]\n",
    "    min_id = [np.argmin(x, axis=0) for x in ints_measures_k]\n",
    "    \n",
    "    # Initialize arrays for extracting associated values for each measure\n",
    "    max_vals_k = np.zeros((norders, nmeas))\n",
    "    min_vals_k = np.zeros((norders, nmeas))\n",
    "    max_ints_k = [[]]*nmeas\n",
    "    min_ints_k = [[]]*nmeas\n",
    "    \n",
    "    # Use vectorized operations to fill max_vals_k and min_vals_k\n",
    "    for m_id in range(nmeas):\n",
    "        # Extract interactions\n",
    "        max_ints_k[m_id] = [np.where(x[y][m_id])[0] for x, y in zip(ints_k, max_id)]\n",
    "        min_ints_k[m_id] = [np.where(x[y][m_id])[0] for x, y in zip(ints_k, min_id)]\n",
    "        # Extracting values\n",
    "        max_vals_k[:, m_id] = [x[max_id[idx][m_id], m_id] for idx, x in enumerate(ints_measures_k)]\n",
    "        min_vals_k[:, m_id] = [x[min_id[idx][m_id], m_id] for idx, x in enumerate(ints_measures_k)]\n",
    "    \n",
    "    # Extract maximum and minimum values across orders\n",
    "    glob_max_ids = np.argmax(max_vals_k, axis=0)\n",
    "    glob_min_ids = np.argmin(min_vals_k, axis=0)\n",
    "    \n",
    "    max_vals = max_vals_k[glob_max_ids, np.arange(nmeas)]\n",
    "    min_vals = min_vals_k[glob_min_ids, np.arange(nmeas)]\n",
    "    \n",
    "    # Extract corresponding interactions\n",
    "    max_ints = [max_ints_k[m_id][glob_max_ids[m_id]] for m_id in range(nmeas)]\n",
    "    min_ints = [min_ints_k[m_id][glob_min_ids[m_id]] for m_id in range(nmeas)]\n",
    "        \n",
    "    return max_ints, min_ints, max_vals, min_vals, max_vals_k, min_vals_k, max_ints_k, min_ints_k\n"
   ]
  },
  {
   "cell_type": "code",
   "execution_count": 8,
   "id": "4881313a",
   "metadata": {
    "execution": {
     "iopub.execute_input": "2024-06-15T21:52:51.492145Z",
     "iopub.status.busy": "2024-06-15T21:52:51.492145Z",
     "iopub.status.idle": "2024-06-15T21:52:51.654351Z",
     "shell.execute_reply": "2024-06-15T21:52:51.654351Z",
     "shell.execute_reply.started": "2024-06-15T21:52:51.492145Z"
    }
   },
   "outputs": [],
   "source": [
    "#basefold = \"/home/ruben.herzog/OneDrive/Projects/THOI/TutorialFrankfurt/dataset/timeseries/\"\n",
    "# basefold = \"C:\\\\Users\\\\rherz\\\\OneDrive\\\\Documents\\\\Projects\\\\Frankfurt2024\\\\Tutorials\\\\dataset\\\\timeseries\\\\\"\n",
    "basefold = \"C:\\\\Users\\\\rherz\\\\OneDrive\\\\Documents\\\\Projects\\\\Frankfurt2024\\\\Tutorials\\\\dataset\\\\timeseries\\\\\"\n",
    "\n",
    "# basefold = '/home/laouen.belloli/Documents/git/High-Order-interactions/dataset/timeseries/'\n",
    "modules = 20 # number of modules\n",
    "min_int = 3\n",
    "norders = modules - min_int +1\n",
    "nsubj = 161 #number of participants\n",
    "timepoints = 159 #number of time points\n",
    "\n",
    "data =  np.zeros((nsubj,modules,timepoints))\n",
    "\n",
    "for participant in range(nsubj):\n",
    "    ts = np.loadtxt(basefold+\"ts_m20_p%.3i.txt\"%(participant+1))\n",
    "    data[participant,:,:] = ts[:,:159]#We recommend truncating all the data to the same number of samples. In this example 159.\n"
   ]
  },
  {
   "cell_type": "code",
   "execution_count": 5,
   "id": "30071dd5",
   "metadata": {
    "collapsed": true,
    "execution": {
     "iopub.execute_input": "2024-06-13T23:33:28.599558Z",
     "iopub.status.busy": "2024-06-13T23:33:28.598833Z",
     "iopub.status.idle": "2024-06-13T23:33:28.819881Z",
     "shell.execute_reply": "2024-06-13T23:33:28.819708Z",
     "shell.execute_reply.started": "2024-06-13T23:33:28.599558Z"
    },
    "jupyter": {
     "outputs_hidden": true,
     "source_hidden": true
    }
   },
   "outputs": [
    {
     "data": {
      "image/png": "[encoded data removed]",
      "text/plain": [
       "<Figure size 640x480 with 1 Axes>"
      ]
     },
     "metadata": {},
     "output_type": "display_data"
    }
   ],
   "source": [
    "# Checking that loading works. Plotting one subjec\n",
    "plt.figure()\n",
    "plt.plot(data[10,:,:].T)#Plotting the BOLD for one subject\n",
    "plt.xlabel(\"time (TR)\")\n",
    "plt.ylabel(\"BOLD\")\n",
    "plt.show()"
   ]
  },
  {
   "cell_type": "markdown",
   "id": "0c1322d9-c9fe-4c08-b1e4-2663b25e295e",
   "metadata": {
    "execution": {
     "iopub.execute_input": "2024-06-13T12:52:17.200576Z",
     "iopub.status.busy": "2024-06-13T12:52:17.200356Z",
     "iopub.status.idle": "2024-06-13T12:52:17.202422Z",
     "shell.execute_reply": "2024-06-13T12:52:17.202138Z",
     "shell.execute_reply.started": "2024-06-13T12:52:17.200564Z"
    }
   },
   "source": [
    "### Computing high-order metrics for all subjects concatenated"
   ]
  },
  {
   "cell_type": "code",
   "execution_count": 9,
   "id": "c58eb3f4-41fb-4c3c-88a4-0c7b503b522a",
   "metadata": {
    "execution": {
     "iopub.execute_input": "2024-06-15T21:52:56.053827Z",
     "iopub.status.busy": "2024-06-15T21:52:56.053827Z",
     "iopub.status.idle": "2024-06-15T21:53:39.112793Z",
     "shell.execute_reply": "2024-06-15T21:53:39.112793Z",
     "shell.execute_reply.started": "2024-06-15T21:52:56.053827Z"
    },
    "scrolled": true
   },
   "outputs": [
    {
     "data": {
      "application/vnd.jupyter.widget-view+json": {
       "model_id": "",
       "version_major": 2,
       "version_minor": 0
      },
      "text/plain": [
       "Order:   0%|          | 0/18 [00:00<?, ?it/s]"
      ]
     },
     "metadata": {},
     "output_type": "display_data"
    },
    {
     "data": {
      "application/vnd.jupyter.widget-view+json": {
       "model_id": "",
       "version_major": 2,
       "version_minor": 0
      },
      "text/plain": [
       "Batch:   0%|          | 0/1 [00:00<?, ?it/s]"
      ]
     },
     "metadata": {},
     "output_type": "display_data"
    },
    {
     "data": {
      "application/vnd.jupyter.widget-view+json": {
       "model_id": "",
       "version_major": 2,
       "version_minor": 0
      },
      "text/plain": [
       "Batch:   0%|          | 0/1 [00:00<?, ?it/s]"
      ]
     },
     "metadata": {},
     "output_type": "display_data"
    },
    {
     "data": {
      "application/vnd.jupyter.widget-view+json": {
       "model_id": "",
       "version_major": 2,
       "version_minor": 0
      },
      "text/plain": [
       "Batch:   0%|          | 0/1 [00:00<?, ?it/s]"
      ]
     },
     "metadata": {},
     "output_type": "display_data"
    },
    {
     "data": {
      "application/vnd.jupyter.widget-view+json": {
       "model_id": "",
       "version_major": 2,
       "version_minor": 0
      },
      "text/plain": [
       "Batch:   0%|          | 0/1 [00:00<?, ?it/s]"
      ]
     },
     "metadata": {},
     "output_type": "display_data"
    },
    {
     "data": {
      "application/vnd.jupyter.widget-view+json": {
       "model_id": "",
       "version_major": 2,
       "version_minor": 0
      },
      "text/plain": [
       "Batch:   0%|          | 0/1 [00:00<?, ?it/s]"
      ]
     },
     "metadata": {},
     "output_type": "display_data"
    },
    {
     "data": {
      "application/vnd.jupyter.widget-view+json": {
       "model_id": "",
       "version_major": 2,
       "version_minor": 0
      },
      "text/plain": [
       "Batch:   0%|          | 0/1 [00:00<?, ?it/s]"
      ]
     },
     "metadata": {},
     "output_type": "display_data"
    },
    {
     "data": {
      "application/vnd.jupyter.widget-view+json": {
       "model_id": "",
       "version_major": 2,
       "version_minor": 0
      },
      "text/plain": [
       "Batch:   0%|          | 0/1 [00:00<?, ?it/s]"
      ]
     },
     "metadata": {},
     "output_type": "display_data"
    },
    {
     "data": {
      "application/vnd.jupyter.widget-view+json": {
       "model_id": "",
       "version_major": 2,
       "version_minor": 0
      },
      "text/plain": [
       "Batch:   0%|          | 0/1 [00:00<?, ?it/s]"
      ]
     },
     "metadata": {},
     "output_type": "display_data"
    },
    {
     "data": {
      "application/vnd.jupyter.widget-view+json": {
       "model_id": "",
       "version_major": 2,
       "version_minor": 0
      },
      "text/plain": [
       "Batch:   0%|          | 0/1 [00:00<?, ?it/s]"
      ]
     },
     "metadata": {},
     "output_type": "display_data"
    },
    {
     "data": {
      "application/vnd.jupyter.widget-view+json": {
       "model_id": "",
       "version_major": 2,
       "version_minor": 0
      },
      "text/plain": [
       "Batch:   0%|          | 0/1 [00:00<?, ?it/s]"
      ]
     },
     "metadata": {},
     "output_type": "display_data"
    },
    {
     "data": {
      "application/vnd.jupyter.widget-view+json": {
       "model_id": "",
       "version_major": 2,
       "version_minor": 0
      },
      "text/plain": [
       "Batch:   0%|          | 0/1 [00:00<?, ?it/s]"
      ]
     },
     "metadata": {},
     "output_type": "display_data"
    },
    {
     "data": {
      "application/vnd.jupyter.widget-view+json": {
       "model_id": "",
       "version_major": 2,
       "version_minor": 0
      },
      "text/plain": [
       "Batch:   0%|          | 0/1 [00:00<?, ?it/s]"
      ]
     },
     "metadata": {},
     "output_type": "display_data"
    },
    {
     "data": {
      "application/vnd.jupyter.widget-view+json": {
       "model_id": "",
       "version_major": 2,
       "version_minor": 0
      },
      "text/plain": [
       "Batch:   0%|          | 0/1 [00:00<?, ?it/s]"
      ]
     },
     "metadata": {},
     "output_type": "display_data"
    },
    {
     "data": {
      "application/vnd.jupyter.widget-view+json": {
       "model_id": "",
       "version_major": 2,
       "version_minor": 0
      },
      "text/plain": [
       "Batch:   0%|          | 0/1 [00:00<?, ?it/s]"
      ]
     },
     "metadata": {},
     "output_type": "display_data"
    },
    {
     "data": {
      "application/vnd.jupyter.widget-view+json": {
       "model_id": "",
       "version_major": 2,
       "version_minor": 0
      },
      "text/plain": [
       "Batch:   0%|          | 0/1 [00:00<?, ?it/s]"
      ]
     },
     "metadata": {},
     "output_type": "display_data"
    },
    {
     "data": {
      "application/vnd.jupyter.widget-view+json": {
       "model_id": "",
       "version_major": 2,
       "version_minor": 0
      },
      "text/plain": [
       "Batch:   0%|          | 0/1 [00:00<?, ?it/s]"
      ]
     },
     "metadata": {},
     "output_type": "display_data"
    },
    {
     "data": {
      "application/vnd.jupyter.widget-view+json": {
       "model_id": "",
       "version_major": 2,
       "version_minor": 0
      },
      "text/plain": [
       "Batch:   0%|          | 0/1 [00:00<?, ?it/s]"
      ]
     },
     "metadata": {},
     "output_type": "display_data"
    },
    {
     "data": {
      "application/vnd.jupyter.widget-view+json": {
       "model_id": "",
       "version_major": 2,
       "version_minor": 0
      },
      "text/plain": [
       "Batch:   0%|          | 0/1 [00:00<?, ?it/s]"
      ]
     },
     "metadata": {},
     "output_type": "display_data"
    }
   ],
   "source": [
    "# Concatenating all subjects\n",
    "X = np.transpose(data, axes=(1, 0, 2)).reshape(20, -1).T\n",
    "results = multi_order_measures(X, use_cpu=True, batch_aggregation=list) # returns a list with dataframe where each entry is a order\n",
    "# results = multi_order_measures(X, use_cpu=True) # returns a dataframe with all order concatenated\n",
    "# took ~150 seconds"
   ]
  },
  {
   "cell_type": "markdown",
   "id": "3ae162b7-6aa3-40a3-8bab-da808537878a",
   "metadata": {},
   "source": [
    "### Exaustive: Extracting maximum and minimum per order and across orders"
   ]
  },
  {
   "cell_type": "code",
   "execution_count": 10,
   "id": "8b4a01aa-26fa-4edd-bdcb-e3ea5bb6d0cd",
   "metadata": {
    "execution": {
     "iopub.execute_input": "2024-06-15T21:53:43.321847Z",
     "iopub.status.busy": "2024-06-15T21:53:43.321847Z",
     "iopub.status.idle": "2024-06-15T21:53:43.370127Z",
     "shell.execute_reply": "2024-06-15T21:53:43.370127Z",
     "shell.execute_reply.started": "2024-06-15T21:53:43.321847Z"
    }
   },
   "outputs": [
    {
     "data": {
      "text/plain": [
       "[[array([ 0,  1,  2,  3,  4,  5,  6,  7,  8,  9, 10, 11, 12, 13, 14, 15, 16,\n",
       "         17, 18, 19], dtype=int64),\n",
       "  array([ 0,  1,  2,  3,  4,  5,  6,  7,  8,  9, 10, 11, 12, 13, 14, 15, 16,\n",
       "         17, 18, 19], dtype=int64),\n",
       "  array([ 0,  1,  2,  3,  4,  5,  6,  7,  8,  9, 10, 11, 12, 13, 14, 15, 16,\n",
       "         17, 18, 19], dtype=int64),\n",
       "  array([ 0,  1,  2,  3,  4,  5,  6,  7,  8,  9, 10, 11, 12, 13, 14, 15, 16,\n",
       "         17, 18, 19], dtype=int64)],\n",
       " array([4.31973918, 3.49950891, 0.82023027, 7.8192481 ]),\n",
       " [array([ 7, 13, 17], dtype=int64),\n",
       "  array([ 7, 13, 17], dtype=int64),\n",
       "  array([ 0,  2,  3,  8, 14, 15, 16, 17], dtype=int64),\n",
       "  array([ 7, 13, 17], dtype=int64)],\n",
       " array([ 0.00046841,  0.00046337, -0.22157918,  0.00093178])]"
      ]
     },
     "execution_count": 10,
     "metadata": {},
     "output_type": "execute_result"
    }
   ],
   "source": [
    "meas_name = results[0].columns[0:4]\n",
    "nmeas = len(meas_name)\n",
    "ints_measures_k = [[]]*norders\n",
    "ints_k = [x.iloc[:,nmeas:].to_numpy() for x in results]\n",
    "ints_measures_k = [x[meas_name].to_numpy() for x in results]\n",
    "# Extracting maximum and minimum per order and across orders\n",
    "max_ints, min_ints, max_vals, min_vals, max_vals_k, min_vals_k, max_ints_k, min_ints_k = get_max_min_meas(ints_k,ints_measures_k)\n",
    "[max_ints, max_vals, min_ints, min_vals ]\n",
    "# "
   ]
  },
  {
   "cell_type": "markdown",
   "id": "0d5b2e99-5f9f-4d45-aa3c-5a9cc2330089",
   "metadata": {
    "execution": {
     "iopub.execute_input": "2024-06-13T13:36:35.270566Z",
     "iopub.status.busy": "2024-06-13T13:36:35.270392Z",
     "iopub.status.idle": "2024-06-13T13:36:35.273668Z",
     "shell.execute_reply": "2024-06-13T13:36:35.273284Z",
     "shell.execute_reply.started": "2024-06-13T13:36:35.270554Z"
    }
   },
   "source": [
    "# Using optimization algorithms for finding the maximum or minimum for each measure\n"
   ]
  },
  {
   "cell_type": "markdown",
   "id": "a487ceb8-5d86-408e-a366-d5157efbe27a",
   "metadata": {
    "execution": {
     "iopub.execute_input": "2024-06-13T13:44:02.483398Z",
     "iopub.status.busy": "2024-06-13T13:44:02.483167Z",
     "iopub.status.idle": "2024-06-13T13:44:02.485924Z",
     "shell.execute_reply": "2024-06-13T13:44:02.485541Z",
     "shell.execute_reply.started": "2024-06-13T13:44:02.483378Z"
    }
   },
   "source": [
    "## 1. Random search\n",
    "\n",
    "---\n",
    "Here we sample 'nrand' random sets of $k$ variables and compute their respective measures. Then, we compute the maximum and minimim measure for each order of interaction."
   ]
  },
  {
   "cell_type": "code",
   "execution_count": 11,
   "id": "d500243e-0d9f-45b8-9b1e-11c26516540c",
   "metadata": {
    "execution": {
     "iopub.execute_input": "2024-06-15T21:53:47.747789Z",
     "iopub.status.busy": "2024-06-15T21:53:47.747123Z",
     "iopub.status.idle": "2024-06-15T21:53:49.489606Z",
     "shell.execute_reply": "2024-06-15T21:53:49.489606Z",
     "shell.execute_reply.started": "2024-06-15T21:53:47.747789Z"
    }
   },
   "outputs": [
    {
     "name": "stdout",
     "output_type": "stream",
     "text": [
      "------\n",
      "TC\n",
      "Estimated max: 4.125960669621151. Real TC: 4.319739183273555\n",
      "Error max: -0.19377851365240417\n",
      "\n",
      "Estimated min: 0.0015176429790599855. Real TC: 0.00046841424350319016\n",
      "Error min: 0.0010492287355567953\n",
      "------\n",
      "DTC\n",
      "Estimated max: 3.356246134247556. Real DTC: 3.4995089149813907\n",
      "Error max: -0.14326278073383492\n",
      "\n",
      "Estimated min: 0.0015036205473464292. Real DTC: 0.00046336957840154014\n",
      "Error min: 0.0010402509689448891\n",
      "------\n",
      "O\n",
      "Estimated max: 0.8102082199386302. Real O: 0.820230268292164\n",
      "Error max: -0.010022048353533819\n",
      "\n",
      "Estimated min: -0.12080738266632274. Real O: -0.22157918145105704\n",
      "Error min: 0.1007717987847343\n",
      "------\n",
      "S\n",
      "Estimated max: 7.443623046338011. Real S: 7.8192480982549455\n",
      "Error max: -0.3756250519169342\n",
      "\n",
      "Estimated min: 0.0030212635264064147. Real S: 0.0009317838219047303\n",
      "Error min: 0.0020894797045016844\n"
     ]
    }
   ],
   "source": [
    "nrand = 100 # play with this to have a notion of the random sample size to get the true values # 100000 in 130 min\n",
    "# Generating random indices of interactions for each order\n",
    "random_ints = [random_sampler(modules, order=x, repeat=nrand) for x in range(3,modules)]\n",
    "random_ints_binmat = [ids2binary(x, modules) for x in random_ints]\n",
    "# Computing\n",
    "random_ints_measures = [np.vstack(nplets_measures(X,ints)) for ints in random_ints]\n",
    "# Extracting maxmimum and minimum\n",
    "rnd_max_ints, rnd_min_ints, rnd_max_vals, rnd_min_vals, rnd_max_vals_k, rnd_min_vals_k, _, _ = get_max_min_meas(random_ints_binmat,random_ints_measures)\n",
    "for m_id, meas in enumerate(meas_name):\n",
    "    print('------')    \n",
    "    print(f'{meas.upper()}')\n",
    "    print(f'Estimated max: {rnd_max_vals[m_id]}. Real {meas.upper()}: {max_vals[m_id]}') \n",
    "    print(f'Error max: {rnd_max_vals[m_id] - max_vals[m_id]}\\n')     \n",
    "    print(f'Estimated min: {rnd_min_vals[m_id]}. Real {meas.upper()}: {min_vals[m_id]}') \n",
    "    print(f'Error min: {rnd_min_vals[m_id] - min_vals[m_id]}') \n",
    "    \n"
   ]
  },
  {
   "cell_type": "code",
   "execution_count": 12,
   "id": "2b08b0b7-de5a-4a0b-abe1-cb6f223a0c03",
   "metadata": {
    "execution": {
     "iopub.execute_input": "2024-06-15T21:53:57.493719Z",
     "iopub.status.busy": "2024-06-15T21:53:57.493719Z",
     "iopub.status.idle": "2024-06-15T21:53:58.062873Z",
     "shell.execute_reply": "2024-06-15T21:53:58.062873Z",
     "shell.execute_reply.started": "2024-06-15T21:53:57.493719Z"
    },
    "jupyter": {
     "source_hidden": true
    }
   },
   "outputs": [
    {
     "data": {
      "image/png": "[encoded data removed]",
      "text/plain": [
       "<Figure size 1400x800 with 8 Axes>"
      ]
     },
     "metadata": {},
     "output_type": "display_data"
    }
   ],
   "source": [
    "## Plotting across orders\n",
    "cat_random_ints_measures = np.stack(random_ints_measures)\n",
    "xx = np.arange(3,modules)\n",
    "\n",
    "plt.figure(figsize=(14,8))\n",
    "cont = 0\n",
    "for m_id, meas in enumerate(meas_name):\n",
    "    # Plotting violinplots\n",
    "    plt.subplot(4,2,(m_id)*2+1)\n",
    "\n",
    "    plt.violinplot(cat_random_ints_measures[:,:,m_id].T, \n",
    "                   positions=xx, showmeans=True)\n",
    "    plt.plot(xx,max_vals_k[:-1,m_id], color='r', linestyle='--', label='true max') \n",
    "    plt.plot(xx,min_vals_k[:-1,m_id], color='b', linestyle='--', label='true min') \n",
    "    plt.xlim([2,modules])\n",
    "    if m_id==0:\n",
    "        plt.title('Measures Distributions')\n",
    "    \n",
    "    plt.ylabel(meas.upper())\n",
    "    if m_id<nmeas-1:\n",
    "        plt.xticks([])\n",
    "    else:\n",
    "        plt.xticks(xx)\n",
    "        plt.xlabel('Order of interaction')\n",
    "        plt.legend()\n",
    "    # Plotting error per orde\n",
    "    plt.subplot(4,2,(m_id)*2+2)\n",
    "    plt.plot(xx,rnd_max_vals_k[:,m_id]-max_vals_k[:-1,m_id], 'r', label='max')\n",
    "    plt.plot(xx,rnd_min_vals_k[:,m_id]-min_vals_k[:-1,m_id],'b', label='min')\n",
    "    plt.axhline(y=0,color='k')\n",
    "    plt.ylabel('Error')\n",
    "    plt.xlim([2,modules])\n",
    "    plt.ylim([-1.1,1.1])\n",
    "    if m_id ==0:\n",
    "        plt.title('Estimation Error')\n",
    "        \n",
    "    if m_id<nmeas-1:\n",
    "        plt.xticks([])\n",
    "    else:\n",
    "        plt.xticks(xx)\n",
    "        plt.xlabel('Order of interaction')\n",
    "        plt.legend()\n",
    "    \n",
    "    cont=+1\n",
    "    \n",
    "    \n",
    "\n",
    "plt.show()\n",
    "\n",
    "\n"
   ]
  },
  {
   "cell_type": "markdown",
   "id": "04e6e8fe-e95d-429c-9216-32a386356f9c",
   "metadata": {},
   "source": [
    "## 2. Greedy search\n",
    "---\n",
    "\n",
    "Let's illustrate a greedy optimization procedure where the free parameters are the identities of $k$ variables from a set of $ N $ variables. The procedure involves iteratively adding one variable to the current set of selected variables, evaluating the objective function, and keeping the variable that maximizes the objective function until the optimal set of $ k $ variables is found.\n",
    "\n",
    "### Explanation\n",
    "\n",
    "#### Initialization:\n",
    "\n",
    "- Start with a random set of # k # variables, say ${x_1, x_2, x_3}$.\n",
    "- Compute the objective function $f(x_1, x_2, x_3)$.\n",
    "\n",
    "#### Iterative Improvement:\n",
    "\n",
    "- For each iteration, add one more variable from the remaining $N - k$ variables to the current set.\n",
    "- Evaluate the objective function for each candidate set of $k + 1$ variables.\n",
    "- Select the variable that, when added, results in the maximum objective function value.\n",
    "\n",
    "We repeat this process until a maximal number of variables $max_k$ defined by the user. \n",
    "\n",
    "If we want to use for minimization, we use the negative of the objective function"
   ]
  },
  {
   "cell_type": "code",
   "execution_count": 13,
   "id": "2ad56166-7312-4450-a6bd-ef74f3469a1a",
   "metadata": {
    "collapsed": true,
    "execution": {
     "iopub.execute_input": "2024-06-15T21:54:07.417115Z",
     "iopub.status.busy": "2024-06-15T21:54:07.417115Z",
     "iopub.status.idle": "2024-06-15T21:54:14.525193Z",
     "shell.execute_reply": "2024-06-15T21:54:14.524845Z",
     "shell.execute_reply.started": "2024-06-15T21:54:07.417115Z"
    },
    "jupyter": {
     "outputs_hidden": true
    },
    "scrolled": true
   },
   "outputs": [
    {
     "data": {
      "application/vnd.jupyter.widget-view+json": {
       "model_id": "",
       "version_major": 2,
       "version_minor": 0
      },
      "text/plain": [
       "Batch:   0%|          | 0/1 [00:00<?, ?it/s]"
      ]
     },
     "metadata": {},
     "output_type": "display_data"
    },
    {
     "name": "stderr",
     "output_type": "stream",
     "text": [
      "Order:   0%|                                                                                    | 0/16 [00:00<?, ?it/s]\n",
      "Candidates:   0%|                                                                               | 0/16 [00:00<?, ?it/s]\u001b[A\n",
      "                                                                                                                       \u001b[A\n",
      "Candidates:   0%|                                                                               | 0/15 [00:00<?, ?it/s]\u001b[A\n",
      "                                                                                                                       \u001b[A\n",
      "Candidates:   0%|                                                                               | 0/14 [00:00<?, ?it/s]\u001b[A\n",
      "Order:  19%|██████████████▎                                                             | 3/16 [00:00<00:00, 29.52it/s]\u001b[A\n",
      "Candidates:   0%|                                                                               | 0/13 [00:00<?, ?it/s]\u001b[A\n",
      "                                                                                                                       \u001b[A\n",
      "Candidates:   0%|                                                                               | 0/12 [00:00<?, ?it/s]\u001b[A\n",
      "                                                                                                                       \u001b[A\n",
      "Candidates:   0%|                                                                               | 0/11 [00:00<?, ?it/s]\u001b[A\n",
      "                                                                                                                       \u001b[A\n",
      "Candidates:   0%|                                                                               | 0/10 [00:00<?, ?it/s]\u001b[A\n",
      "Order:  44%|█████████████████████████████████▎                                          | 7/16 [00:00<00:00, 29.86it/s]\u001b[A\n",
      "Candidates:   0%|                                                                                | 0/9 [00:00<?, ?it/s]\u001b[A\n",
      "                                                                                                                       \u001b[A\n",
      "Candidates:   0%|                                                                                | 0/8 [00:00<?, ?it/s]\u001b[A\n",
      "                                                                                                                       \u001b[A\n",
      "Candidates:   0%|                                                                                | 0/7 [00:00<?, ?it/s]\u001b[A\n",
      "                                                                                                                       \u001b[A\n",
      "Candidates:   0%|                                                                                | 0/6 [00:00<?, ?it/s]\u001b[A\n",
      "Order:  69%|███████████████████████████████████████████████████▌                       | 11/16 [00:00<00:00, 31.94it/s]\u001b[A\n",
      "Candidates:   0%|                                                                                | 0/5 [00:00<?, ?it/s]\u001b[A\n",
      "                                                                                                                       \u001b[A\n",
      "Candidates:   0%|                                                                                | 0/4 [00:00<?, ?it/s]\u001b[A\n",
      "                                                                                                                       \u001b[A\n",
      "Candidates:   0%|                                                                                | 0/3 [00:00<?, ?it/s]\u001b[A\n",
      "                                                                                                                       \u001b[A\n",
      "Candidates:   0%|                                                                                | 0/2 [00:00<?, ?it/s]\u001b[A\n",
      "Order:  94%|██████████████████████████████████████████████████████████████████████▎    | 15/16 [00:00<00:00, 31.15it/s]\u001b[A\n",
      "Candidates:   0%|                                                                                | 0/1 [00:00<?, ?it/s]\u001b[A\n",
      "                                                                                                                       \u001b[A\r"
     ]
    },
    {
     "data": {
      "application/vnd.jupyter.widget-view+json": {
       "model_id": "",
       "version_major": 2,
       "version_minor": 0
      },
      "text/plain": [
       "Batch:   0%|          | 0/1 [00:00<?, ?it/s]"
      ]
     },
     "metadata": {},
     "output_type": "display_data"
    },
    {
     "name": "stderr",
     "output_type": "stream",
     "text": [
      "Order:   0%|                                                                                    | 0/16 [00:00<?, ?it/s]\n",
      "Candidates:   0%|                                                                               | 0/16 [00:00<?, ?it/s]\u001b[A\n",
      "                                                                                                                       \u001b[A\n",
      "Candidates:   0%|                                                                               | 0/15 [00:00<?, ?it/s]\u001b[A\n",
      "                                                                                                                       \u001b[A\n",
      "Candidates:   0%|                                                                               | 0/14 [00:00<?, ?it/s]\u001b[A\n",
      "                                                                                                                       \u001b[A\n",
      "Candidates:   0%|                                                                               | 0/13 [00:00<?, ?it/s]\u001b[A\n",
      "Order:  25%|███████████████████                                                         | 4/16 [00:00<00:00, 33.57it/s]\u001b[A\n",
      "Candidates:   0%|                                                                               | 0/12 [00:00<?, ?it/s]\u001b[A\n",
      "                                                                                                                       \u001b[A\n",
      "Candidates:   0%|                                                                               | 0/11 [00:00<?, ?it/s]\u001b[A\n",
      "                                                                                                                       \u001b[A\n",
      "Candidates:   0%|                                                                               | 0/10 [00:00<?, ?it/s]\u001b[A\n",
      "                                                                                                                       \u001b[A\n",
      "Candidates:   0%|                                                                                | 0/9 [00:00<?, ?it/s]\u001b[A\n",
      "Order:  50%|██████████████████████████████████████                                      | 8/16 [00:00<00:00, 31.39it/s]\u001b[A\n",
      "Candidates:   0%|                                                                                | 0/8 [00:00<?, ?it/s]\u001b[A\n",
      "                                                                                                                       \u001b[A\n",
      "Candidates:   0%|                                                                                | 0/7 [00:00<?, ?it/s]\u001b[A\n",
      "                                                                                                                       \u001b[A\n",
      "Candidates:   0%|                                                                                | 0/6 [00:00<?, ?it/s]\u001b[A\n",
      "                                                                                                                       \u001b[A\n",
      "Candidates:   0%|                                                                                | 0/5 [00:00<?, ?it/s]\u001b[A\n",
      "Order:  75%|████████████████████████████████████████████████████████▎                  | 12/16 [00:00<00:00, 30.68it/s]\u001b[A\n",
      "Candidates:   0%|                                                                                | 0/4 [00:00<?, ?it/s]\u001b[A\n",
      "                                                                                                                       \u001b[A\n",
      "Candidates:   0%|                                                                                | 0/3 [00:00<?, ?it/s]\u001b[A\n",
      "                                                                                                                       \u001b[A\n",
      "Candidates:   0%|                                                                                | 0/2 [00:00<?, ?it/s]\u001b[A\n",
      "                                                                                                                       \u001b[A\n",
      "Candidates:   0%|                                                                                | 0/1 [00:00<?, ?it/s]\u001b[A\n",
      "                                                                                                                       \u001b[A\r"
     ]
    },
    {
     "data": {
      "application/vnd.jupyter.widget-view+json": {
       "model_id": "",
       "version_major": 2,
       "version_minor": 0
      },
      "text/plain": [
       "Batch:   0%|          | 0/1 [00:00<?, ?it/s]"
      ]
     },
     "metadata": {},
     "output_type": "display_data"
    },
    {
     "name": "stderr",
     "output_type": "stream",
     "text": [
      "Order:   0%|                                                                                    | 0/16 [00:00<?, ?it/s]\n",
      "Candidates:   0%|                                                                               | 0/16 [00:00<?, ?it/s]\u001b[A\n",
      "                                                                                                                       \u001b[A\n",
      "Candidates:   0%|                                                                               | 0/15 [00:00<?, ?it/s]\u001b[A\n",
      "                                                                                                                       \u001b[A\n",
      "Candidates:   0%|                                                                               | 0/14 [00:00<?, ?it/s]\u001b[A\n",
      "                                                                                                                       \u001b[A\n",
      "Candidates:   0%|                                                                               | 0/13 [00:00<?, ?it/s]\u001b[A\n",
      "Order:  25%|███████████████████                                                         | 4/16 [00:00<00:00, 32.49it/s]\u001b[A\n",
      "Candidates:   0%|                                                                               | 0/12 [00:00<?, ?it/s]\u001b[A\n",
      "                                                                                                                       \u001b[A\n",
      "Candidates:   0%|                                                                               | 0/11 [00:00<?, ?it/s]\u001b[A\n",
      "                                                                                                                       \u001b[A\n",
      "Candidates:   0%|                                                                               | 0/10 [00:00<?, ?it/s]\u001b[A\n",
      "                                                                                                                       \u001b[A\n",
      "Candidates:   0%|                                                                                | 0/9 [00:00<?, ?it/s]\u001b[A\n",
      "Order:  50%|██████████████████████████████████████                                      | 8/16 [00:00<00:00, 31.09it/s]\u001b[A\n",
      "Candidates:   0%|                                                                                | 0/8 [00:00<?, ?it/s]\u001b[A\n",
      "                                                                                                                       \u001b[A\n",
      "Candidates:   0%|                                                                                | 0/7 [00:00<?, ?it/s]\u001b[A\n",
      "                                                                                                                       \u001b[A\n",
      "Candidates:   0%|                                                                                | 0/6 [00:00<?, ?it/s]\u001b[A\n",
      "                                                                                                                       \u001b[A\n",
      "Candidates:   0%|                                                                                | 0/5 [00:00<?, ?it/s]\u001b[A\n",
      "Order:  75%|████████████████████████████████████████████████████████▎                  | 12/16 [00:00<00:00, 32.46it/s]\u001b[A\n",
      "Candidates:   0%|                                                                                | 0/4 [00:00<?, ?it/s]\u001b[A\n",
      "                                                                                                                       \u001b[A\n",
      "Candidates:   0%|                                                                                | 0/3 [00:00<?, ?it/s]\u001b[A\n",
      "                                                                                                                       \u001b[A\n",
      "Candidates:   0%|                                                                                | 0/2 [00:00<?, ?it/s]\u001b[A\n",
      "                                                                                                                       \u001b[A\n",
      "Candidates:   0%|                                                                                | 0/1 [00:00<?, ?it/s]\u001b[A\n",
      "                                                                                                                       \u001b[A\r"
     ]
    },
    {
     "data": {
      "application/vnd.jupyter.widget-view+json": {
       "model_id": "",
       "version_major": 2,
       "version_minor": 0
      },
      "text/plain": [
       "Batch:   0%|          | 0/1 [00:00<?, ?it/s]"
      ]
     },
     "metadata": {},
     "output_type": "display_data"
    },
    {
     "name": "stderr",
     "output_type": "stream",
     "text": [
      "Order:   0%|                                                                                    | 0/16 [00:00<?, ?it/s]\n",
      "Candidates:   0%|                                                                               | 0/16 [00:00<?, ?it/s]\u001b[A\n",
      "                                                                                                                       \u001b[A\n",
      "Candidates:   0%|                                                                               | 0/15 [00:00<?, ?it/s]\u001b[A\n",
      "                                                                                                                       \u001b[A\n",
      "Candidates:   0%|                                                                               | 0/14 [00:00<?, ?it/s]\u001b[A\n",
      "                                                                                                                       \u001b[A\n",
      "Candidates:   0%|                                                                               | 0/13 [00:00<?, ?it/s]\u001b[A\n",
      "Order:  25%|███████████████████                                                         | 4/16 [00:00<00:00, 36.88it/s]\u001b[A\n",
      "Candidates:   0%|                                                                               | 0/12 [00:00<?, ?it/s]\u001b[A\n",
      "                                                                                                                       \u001b[A\n",
      "Candidates:   0%|                                                                               | 0/11 [00:00<?, ?it/s]\u001b[A\n",
      "                                                                                                                       \u001b[A\n",
      "Candidates:   0%|                                                                               | 0/10 [00:00<?, ?it/s]\u001b[A\n",
      "                                                                                                                       \u001b[A\n",
      "Candidates:   0%|                                                                                | 0/9 [00:00<?, ?it/s]\u001b[A\n",
      "Order:  50%|██████████████████████████████████████                                      | 8/16 [00:00<00:00, 32.98it/s]\u001b[A\n",
      "Candidates:   0%|                                                                                | 0/8 [00:00<?, ?it/s]\u001b[A\n",
      "                                                                                                                       \u001b[A\n",
      "Candidates:   0%|                                                                                | 0/7 [00:00<?, ?it/s]\u001b[A\n",
      "                                                                                                                       \u001b[A\n",
      "Candidates:   0%|                                                                                | 0/6 [00:00<?, ?it/s]\u001b[A\n",
      "                                                                                                                       \u001b[A\n",
      "Candidates:   0%|                                                                                | 0/5 [00:00<?, ?it/s]\u001b[A\n",
      "Order:  75%|████████████████████████████████████████████████████████▎                  | 12/16 [00:00<00:00, 35.48it/s]\u001b[A\n",
      "Candidates:   0%|                                                                                | 0/4 [00:00<?, ?it/s]\u001b[A\n",
      "                                                                                                                       \u001b[A\n",
      "Candidates:   0%|                                                                                | 0/3 [00:00<?, ?it/s]\u001b[A\n",
      "                                                                                                                       \u001b[A\n",
      "Candidates:   0%|                                                                                | 0/2 [00:00<?, ?it/s]\u001b[A\n",
      "                                                                                                                       \u001b[A\n",
      "Candidates:   0%|                                                                                | 0/1 [00:00<?, ?it/s]\u001b[A\n",
      "                                                                                                                       \u001b[A\r"
     ]
    },
    {
     "data": {
      "application/vnd.jupyter.widget-view+json": {
       "model_id": "",
       "version_major": 2,
       "version_minor": 0
      },
      "text/plain": [
       "Batch:   0%|          | 0/1 [00:00<?, ?it/s]"
      ]
     },
     "metadata": {},
     "output_type": "display_data"
    },
    {
     "name": "stderr",
     "output_type": "stream",
     "text": [
      "Order:   0%|                                                                                    | 0/16 [00:00<?, ?it/s]\n",
      "Candidates:   0%|                                                                               | 0/16 [00:00<?, ?it/s]\u001b[A\n",
      "                                                                                                                       \u001b[A\n",
      "Candidates:   0%|                                                                               | 0/15 [00:00<?, ?it/s]\u001b[A\n",
      "                                                                                                                       \u001b[A\n",
      "Candidates:   0%|                                                                               | 0/14 [00:00<?, ?it/s]\u001b[A\n",
      "                                                                                                                       \u001b[A\n",
      "Candidates:   0%|                                                                               | 0/13 [00:00<?, ?it/s]\u001b[A\n",
      "Order:  25%|███████████████████                                                         | 4/16 [00:00<00:00, 39.57it/s]\u001b[A\n",
      "Candidates:   0%|                                                                               | 0/12 [00:00<?, ?it/s]\u001b[A\n",
      "                                                                                                                       \u001b[A\n",
      "Candidates:   0%|                                                                               | 0/11 [00:00<?, ?it/s]\u001b[A\n",
      "                                                                                                                       \u001b[A\n",
      "Candidates:   0%|                                                                               | 0/10 [00:00<?, ?it/s]\u001b[A\n",
      "                                                                                                                       \u001b[A\n",
      "Candidates:   0%|                                                                                | 0/9 [00:00<?, ?it/s]\u001b[A\n",
      "Order:  50%|██████████████████████████████████████                                      | 8/16 [00:00<00:00, 32.27it/s]\u001b[A\n",
      "Candidates:   0%|                                                                                | 0/8 [00:00<?, ?it/s]\u001b[A\n",
      "                                                                                                                       \u001b[A\n",
      "Candidates:   0%|                                                                                | 0/7 [00:00<?, ?it/s]\u001b[A\n",
      "                                                                                                                       \u001b[A\n",
      "Candidates:   0%|                                                                                | 0/6 [00:00<?, ?it/s]\u001b[A\n",
      "                                                                                                                       \u001b[A\n",
      "Candidates:   0%|                                                                                | 0/5 [00:00<?, ?it/s]\u001b[A\n",
      "Order:  75%|████████████████████████████████████████████████████████▎                  | 12/16 [00:00<00:00, 28.43it/s]\u001b[A\n",
      "Candidates:   0%|                                                                                | 0/4 [00:00<?, ?it/s]\u001b[A\n",
      "                                                                                                                       \u001b[A\n",
      "Candidates:   0%|                                                                                | 0/3 [00:00<?, ?it/s]\u001b[A\n",
      "                                                                                                                       \u001b[A\n",
      "Candidates:   0%|                                                                                | 0/2 [00:00<?, ?it/s]\u001b[A\n",
      "                                                                                                                       \u001b[A\n",
      "Candidates:   0%|                                                                                | 0/1 [00:00<?, ?it/s]\u001b[A\n",
      "                                                                                                                       \u001b[A\r"
     ]
    },
    {
     "data": {
      "application/vnd.jupyter.widget-view+json": {
       "model_id": "",
       "version_major": 2,
       "version_minor": 0
      },
      "text/plain": [
       "Batch:   0%|          | 0/1 [00:00<?, ?it/s]"
      ]
     },
     "metadata": {},
     "output_type": "display_data"
    },
    {
     "name": "stderr",
     "output_type": "stream",
     "text": [
      "Order:   0%|                                                                                    | 0/16 [00:00<?, ?it/s]\n",
      "Candidates:   0%|                                                                               | 0/16 [00:00<?, ?it/s]\u001b[A\n",
      "                                                                                                                       \u001b[A\n",
      "Candidates:   0%|                                                                               | 0/15 [00:00<?, ?it/s]\u001b[A\n",
      "                                                                                                                       \u001b[A\n",
      "Candidates:   0%|                                                                               | 0/14 [00:00<?, ?it/s]\u001b[A\n",
      "Order:  19%|██████████████▎                                                             | 3/16 [00:00<00:00, 29.72it/s]\u001b[A\n",
      "Candidates:   0%|                                                                               | 0/13 [00:00<?, ?it/s]\u001b[A\n",
      "                                                                                                                       \u001b[A\n",
      "Candidates:   0%|                                                                               | 0/12 [00:00<?, ?it/s]\u001b[A\n",
      "                                                                                                                       \u001b[A\n",
      "Candidates:   0%|                                                                               | 0/11 [00:00<?, ?it/s]\u001b[A\n",
      "Order:  38%|████████████████████████████▌                                               | 6/16 [00:00<00:00, 28.99it/s]\u001b[A\n",
      "Candidates:   0%|                                                                               | 0/10 [00:00<?, ?it/s]\u001b[A\n",
      "                                                                                                                       \u001b[A\n",
      "Candidates:   0%|                                                                                | 0/9 [00:00<?, ?it/s]\u001b[A\n",
      "                                                                                                                       \u001b[A\n",
      "Candidates:   0%|                                                                                | 0/8 [00:00<?, ?it/s]\u001b[A\n",
      "                                                                                                                       \u001b[A\n",
      "Candidates:   0%|                                                                                | 0/7 [00:00<?, ?it/s]\u001b[A\n",
      "Order:  62%|██████████████████████████████████████████████▉                            | 10/16 [00:00<00:00, 32.13it/s]\u001b[A\n",
      "Candidates:   0%|                                                                                | 0/6 [00:00<?, ?it/s]\u001b[A\n",
      "                                                                                                                       \u001b[A\n",
      "Candidates:   0%|                                                                                | 0/5 [00:00<?, ?it/s]\u001b[A\n",
      "                                                                                                                       \u001b[A\n",
      "Candidates:   0%|                                                                                | 0/4 [00:00<?, ?it/s]\u001b[A\n",
      "                                                                                                                       \u001b[A\n",
      "Candidates:   0%|                                                                                | 0/3 [00:00<?, ?it/s]\u001b[A\n",
      "Order:  88%|█████████████████████████████████████████████████████████████████▋         | 14/16 [00:00<00:00, 34.77it/s]\u001b[A\n",
      "Candidates:   0%|                                                                                | 0/2 [00:00<?, ?it/s]\u001b[A\n",
      "                                                                                                                       \u001b[A\n",
      "Candidates:   0%|                                                                                | 0/1 [00:00<?, ?it/s]\u001b[A\n",
      "                                                                                                                       \u001b[A\r"
     ]
    },
    {
     "data": {
      "application/vnd.jupyter.widget-view+json": {
       "model_id": "",
       "version_major": 2,
       "version_minor": 0
      },
      "text/plain": [
       "Batch:   0%|          | 0/1 [00:00<?, ?it/s]"
      ]
     },
     "metadata": {},
     "output_type": "display_data"
    },
    {
     "name": "stderr",
     "output_type": "stream",
     "text": [
      "Order:   0%|                                                                                    | 0/16 [00:00<?, ?it/s]\n",
      "Candidates:   0%|                                                                               | 0/16 [00:00<?, ?it/s]\u001b[A\n",
      "                                                                                                                       \u001b[A\n",
      "Candidates:   0%|                                                                               | 0/15 [00:00<?, ?it/s]\u001b[A\n",
      "                                                                                                                       \u001b[A\n",
      "Candidates:   0%|                                                                               | 0/14 [00:00<?, ?it/s]\u001b[A\n",
      "                                                                                                                       \u001b[A\n",
      "Candidates:   0%|                                                                               | 0/13 [00:00<?, ?it/s]\u001b[A\n",
      "Order:  25%|███████████████████                                                         | 4/16 [00:00<00:00, 33.31it/s]\u001b[A\n",
      "Candidates:   0%|                                                                               | 0/12 [00:00<?, ?it/s]\u001b[A\n",
      "                                                                                                                       \u001b[A\n",
      "Candidates:   0%|                                                                               | 0/11 [00:00<?, ?it/s]\u001b[A\n",
      "                                                                                                                       \u001b[A\n",
      "Candidates:   0%|                                                                               | 0/10 [00:00<?, ?it/s]\u001b[A\n",
      "                                                                                                                       \u001b[A\n",
      "Candidates:   0%|                                                                                | 0/9 [00:00<?, ?it/s]\u001b[A\n",
      "Order:  50%|██████████████████████████████████████                                      | 8/16 [00:00<00:00, 31.30it/s]\u001b[A\n",
      "Candidates:   0%|                                                                                | 0/8 [00:00<?, ?it/s]\u001b[A\n",
      "                                                                                                                       \u001b[A\n",
      "Candidates:   0%|                                                                                | 0/7 [00:00<?, ?it/s]\u001b[A\n",
      "                                                                                                                       \u001b[A\n",
      "Candidates:   0%|                                                                                | 0/6 [00:00<?, ?it/s]\u001b[A\n",
      "                                                                                                                       \u001b[A\n",
      "Candidates:   0%|                                                                                | 0/5 [00:00<?, ?it/s]\u001b[A\n",
      "Order:  75%|████████████████████████████████████████████████████████▎                  | 12/16 [00:00<00:00, 32.50it/s]\u001b[A\n",
      "Candidates:   0%|                                                                                | 0/4 [00:00<?, ?it/s]\u001b[A\n",
      "                                                                                                                       \u001b[A\n",
      "Candidates:   0%|                                                                                | 0/3 [00:00<?, ?it/s]\u001b[A\n",
      "                                                                                                                       \u001b[A\n",
      "Candidates:   0%|                                                                                | 0/2 [00:00<?, ?it/s]\u001b[A\n",
      "                                                                                                                       \u001b[A\n",
      "Candidates:   0%|                                                                                | 0/1 [00:00<?, ?it/s]\u001b[A\n",
      "                                                                                                                       \u001b[A\r"
     ]
    },
    {
     "data": {
      "application/vnd.jupyter.widget-view+json": {
       "model_id": "",
       "version_major": 2,
       "version_minor": 0
      },
      "text/plain": [
       "Batch:   0%|          | 0/1 [00:00<?, ?it/s]"
      ]
     },
     "metadata": {},
     "output_type": "display_data"
    },
    {
     "name": "stderr",
     "output_type": "stream",
     "text": [
      "Order:   0%|                                                                                    | 0/16 [00:00<?, ?it/s]\n",
      "Candidates:   0%|                                                                               | 0/16 [00:00<?, ?it/s]\u001b[A\n",
      "                                                                                                                       \u001b[A\n",
      "Candidates:   0%|                                                                               | 0/15 [00:00<?, ?it/s]\u001b[A\n",
      "                                                                                                                       \u001b[A\n",
      "Candidates:   0%|                                                                               | 0/14 [00:00<?, ?it/s]\u001b[A\n",
      "                                                                                                                       \u001b[A\n",
      "Candidates:   0%|                                                                               | 0/13 [00:00<?, ?it/s]\u001b[A\n",
      "Order:  25%|███████████████████                                                         | 4/16 [00:00<00:00, 33.36it/s]\u001b[A\n",
      "Candidates:   0%|                                                                               | 0/12 [00:00<?, ?it/s]\u001b[A\n",
      "                                                                                                                       \u001b[A\n",
      "Candidates:   0%|                                                                               | 0/11 [00:00<?, ?it/s]\u001b[A\n",
      "                                                                                                                       \u001b[A\n",
      "Candidates:   0%|                                                                               | 0/10 [00:00<?, ?it/s]\u001b[A\n",
      "                                                                                                                       \u001b[A\n",
      "Candidates:   0%|                                                                                | 0/9 [00:00<?, ?it/s]\u001b[A\n",
      "Order:  50%|██████████████████████████████████████                                      | 8/16 [00:00<00:00, 33.90it/s]\u001b[A\n",
      "Candidates:   0%|                                                                                | 0/8 [00:00<?, ?it/s]\u001b[A\n",
      "                                                                                                                       \u001b[A\n",
      "Candidates:   0%|                                                                                | 0/7 [00:00<?, ?it/s]\u001b[A\n",
      "                                                                                                                       \u001b[A\n",
      "Candidates:   0%|                                                                                | 0/6 [00:00<?, ?it/s]\u001b[A\n",
      "                                                                                                                       \u001b[A\n",
      "Candidates:   0%|                                                                                | 0/5 [00:00<?, ?it/s]\u001b[A\n",
      "Order:  75%|████████████████████████████████████████████████████████▎                  | 12/16 [00:00<00:00, 34.04it/s]\u001b[A\n",
      "Candidates:   0%|                                                                                | 0/4 [00:00<?, ?it/s]\u001b[A\n",
      "                                                                                                                       \u001b[A\n",
      "Candidates:   0%|                                                                                | 0/3 [00:00<?, ?it/s]\u001b[A\n",
      "                                                                                                                       \u001b[A\n",
      "Candidates:   0%|                                                                                | 0/2 [00:00<?, ?it/s]\u001b[A\n",
      "                                                                                                                       \u001b[A\n",
      "Candidates:   0%|                                                                                | 0/1 [00:00<?, ?it/s]\u001b[A\n",
      "                                                                                                                       \u001b[A\r"
     ]
    }
   ],
   "source": [
    "# Running Greedy\n",
    "max_k = modules-1\n",
    "min_k = 3\n",
    "repeat = 5 # platy with this number to obtain true solution. 1000 is almost perfect. 10000 ~60 takes seconds\n",
    "# Maximizing\n",
    "greedy_out = [greedy(X, max_k , min_k, repeat=repeat, metric=meas, largest=True) for meas in meas_name]\n",
    "g_max_partitions = [x[0] for x in greedy_out]\n",
    "g_max_scores = [np.vstack(x[1]) for x in greedy_out]\n",
    "g_max_vals = [np.max(x,axis=0) for x in g_max_scores]\n",
    "\n",
    "# Minimizing\n",
    "greedy_out = [greedy(X, max_k , min_k, repeat=repeat, metric=meas, largest=False) for meas in meas_name]\n",
    "g_min_partitions = [x[0] for x in greedy_out]\n",
    "g_min_scores = [np.vstack(x[1]) for x in greedy_out]\n",
    "g_min_vals = [np.min(x,axis=0) for x in g_min_scores]"
   ]
  },
  {
   "cell_type": "code",
   "execution_count": 14,
   "id": "5e977e07-31be-4067-a053-7943d6f8f096",
   "metadata": {
    "execution": {
     "iopub.execute_input": "2024-06-15T21:54:19.496145Z",
     "iopub.status.busy": "2024-06-15T21:54:19.496145Z",
     "iopub.status.idle": "2024-06-15T21:54:19.905552Z",
     "shell.execute_reply": "2024-06-15T21:54:19.905552Z",
     "shell.execute_reply.started": "2024-06-15T21:54:19.496145Z"
    },
    "scrolled": true
   },
   "outputs": [
    {
     "data": {
      "image/png": "[encoded data removed]",
      "text/plain": [
       "<Figure size 1600x400 with 4 Axes>"
      ]
     },
     "metadata": {},
     "output_type": "display_data"
    }
   ],
   "source": [
    "plt.figure(figsize=(16,4))\n",
    "for m_id, meas in enumerate(meas_name):\n",
    "    # Plotting error per orde\n",
    "    plt.subplot(1,4,m_id+1)\n",
    "    plt.axhline(y=0,color='k')    \n",
    "    plt.plot(xx,g_max_vals[m_id]-max_vals_k[:-1,m_id], 'r', label='max')\n",
    "    plt.plot(xx,g_min_vals[m_id]-min_vals_k[:-1,m_id],'b', label='min')\n",
    "    plt.xlim([2,modules])\n",
    "    plt.ylim([-1.1,1.1])\n",
    "    plt.title(meas.upper())\n",
    "    plt.legend()\n",
    "    plt.xticks(xx)\n",
    "    plt.xlabel('Order of interaction')\n",
    "    if m_id==0:\n",
    "        plt.ylabel('Error')\n",
    "    else:\n",
    "        plt.yticks([])\n",
    "    \n",
    "# \n",
    "plt.tight_layout()\n",
    "plt.show()"
   ]
  },
  {
   "cell_type": "markdown",
   "id": "959a97f1-e4c3-49e9-92ea-095ba04ca638",
   "metadata": {},
   "source": [
    "## 3. Simulated annealing\n",
    "\n",
    "---\n",
    "\n",
    "Let's illustrate a simulated annealing optimization procedure where the free parameters are the identities of $ k $ variables from a set of $ N $ variables. The procedure involves iteratively adding one variable to the current set of selected variables, evaluating the objective function, and making probabilistic decisions to accept new solutions based on a temperature $ T $ that decreases over time with a cooling rate $ c\\_rate $.\n",
    "\n",
    "### Explanation\n",
    "\n",
    "#### Initialization:\n",
    "\n",
    "- Start with a random set of $ k $ variables, say $\\{x_1, x_2, x_3\\}$.\n",
    "- Compute the objective function $ f(x_1, x_2, x_3) $.\n",
    "- Initialize the temperature $ T $.\n",
    "\n",
    "#### Iterative Improvement:\n",
    "\n",
    "- For each iteration:\n",
    "  - Add one more variable from the remaining $ N - k $ variables to the current set.\n",
    "  - Evaluate the objective function for each candidate set of $ k + 1 $ variables.\n",
    "  - Calculate the change in the objective function $ \\Delta f $.\n",
    "  - If $ \\Delta f $ is positive, accept the new set of variables.\n",
    "  - If $ \\Delta f $ is negative, accept the new set of variables with a probability $ e^{\\Delta f / T} $.\n",
    "  - Reduce the temperature $ T $ according to the cooling rate $ c\\_rate $: $ T = T \\times c\\_rate $.\n",
    "\n",
    "\n",
    "We stop the optimization if no new solution is found after 'early stop' iterations\n"
   ]
  },
  {
   "cell_type": "code",
   "execution_count": 15,
   "id": "6815155b-d912-4deb-826a-7869c982fd36",
   "metadata": {
    "collapsed": true,
    "execution": {
     "iopub.execute_input": "2024-06-15T21:54:31.463181Z",
     "iopub.status.busy": "2024-06-15T21:54:31.463181Z",
     "iopub.status.idle": "2024-06-15T21:57:04.019182Z",
     "shell.execute_reply": "2024-06-15T21:57:04.019182Z",
     "shell.execute_reply.started": "2024-06-15T21:54:31.463181Z"
    },
    "jupyter": {
     "outputs_hidden": true
    }
   },
   "outputs": [
    {
     "name": "stdout",
     "output_type": "stream",
     "text": [
      "Order: 3\n",
      "Maximizing\n"
     ]
    },
    {
     "name": "stderr",
     "output_type": "stream",
     "text": [
      "                                                                                                                       \r"
     ]
    },
    {
     "name": "stdout",
     "output_type": "stream",
     "text": [
      "Early stop reached\n"
     ]
    },
    {
     "name": "stderr",
     "output_type": "stream",
     "text": [
      "                                                                                                                       \r"
     ]
    },
    {
     "name": "stdout",
     "output_type": "stream",
     "text": [
      "Early stop reached\n"
     ]
    },
    {
     "name": "stderr",
     "output_type": "stream",
     "text": [
      "                                                                                                                       \r"
     ]
    },
    {
     "name": "stdout",
     "output_type": "stream",
     "text": [
      "Early stop reached\n"
     ]
    },
    {
     "name": "stderr",
     "output_type": "stream",
     "text": [
      "                                                                                                                       \r"
     ]
    },
    {
     "name": "stdout",
     "output_type": "stream",
     "text": [
      "Early stop reached\n",
      "Minimizing\n"
     ]
    },
    {
     "name": "stderr",
     "output_type": "stream",
     "text": [
      "                                                                                                                       \r"
     ]
    },
    {
     "name": "stdout",
     "output_type": "stream",
     "text": [
      "Early stop reached\n"
     ]
    },
    {
     "name": "stderr",
     "output_type": "stream",
     "text": [
      "                                                                                                                       \r"
     ]
    },
    {
     "name": "stdout",
     "output_type": "stream",
     "text": [
      "Early stop reached\n"
     ]
    },
    {
     "name": "stderr",
     "output_type": "stream",
     "text": [
      "                                                                                                                       \r"
     ]
    },
    {
     "name": "stdout",
     "output_type": "stream",
     "text": [
      "Early stop reached\n"
     ]
    },
    {
     "name": "stderr",
     "output_type": "stream",
     "text": [
      "                                                                                                                       \r"
     ]
    },
    {
     "name": "stdout",
     "output_type": "stream",
     "text": [
      "Early stop reached\n",
      "Order: 4\n",
      "Maximizing\n"
     ]
    },
    {
     "name": "stderr",
     "output_type": "stream",
     "text": [
      "                                                                                                                       \r"
     ]
    },
    {
     "name": "stdout",
     "output_type": "stream",
     "text": [
      "Early stop reached\n"
     ]
    },
    {
     "name": "stderr",
     "output_type": "stream",
     "text": [
      "                                                                                                                       \r"
     ]
    },
    {
     "name": "stdout",
     "output_type": "stream",
     "text": [
      "Early stop reached\n"
     ]
    },
    {
     "name": "stderr",
     "output_type": "stream",
     "text": [
      "                                                                                                                       \r"
     ]
    },
    {
     "name": "stdout",
     "output_type": "stream",
     "text": [
      "Early stop reached\n"
     ]
    },
    {
     "name": "stderr",
     "output_type": "stream",
     "text": [
      "                                                                                                                       \r"
     ]
    },
    {
     "name": "stdout",
     "output_type": "stream",
     "text": [
      "Early stop reached\n",
      "Minimizing\n"
     ]
    },
    {
     "name": "stderr",
     "output_type": "stream",
     "text": [
      "                                                                                                                       \r"
     ]
    },
    {
     "name": "stdout",
     "output_type": "stream",
     "text": [
      "Early stop reached\n"
     ]
    },
    {
     "name": "stderr",
     "output_type": "stream",
     "text": [
      "                                                                                                                       \r"
     ]
    },
    {
     "name": "stdout",
     "output_type": "stream",
     "text": [
      "Early stop reached\n"
     ]
    },
    {
     "name": "stderr",
     "output_type": "stream",
     "text": [
      "                                                                                                                       \r"
     ]
    },
    {
     "name": "stdout",
     "output_type": "stream",
     "text": [
      "Early stop reached\n"
     ]
    },
    {
     "name": "stderr",
     "output_type": "stream",
     "text": [
      "                                                                                                                       \r"
     ]
    },
    {
     "name": "stdout",
     "output_type": "stream",
     "text": [
      "Early stop reached\n",
      "Order: 5\n",
      "Maximizing\n"
     ]
    },
    {
     "name": "stderr",
     "output_type": "stream",
     "text": [
      "                                                                                                                       \r"
     ]
    },
    {
     "name": "stdout",
     "output_type": "stream",
     "text": [
      "Early stop reached\n"
     ]
    },
    {
     "name": "stderr",
     "output_type": "stream",
     "text": [
      "                                                                                                                       \r"
     ]
    },
    {
     "name": "stdout",
     "output_type": "stream",
     "text": [
      "Early stop reached\n"
     ]
    },
    {
     "name": "stderr",
     "output_type": "stream",
     "text": [
      "                                                                                                                       \r"
     ]
    },
    {
     "name": "stdout",
     "output_type": "stream",
     "text": [
      "Early stop reached\n"
     ]
    },
    {
     "name": "stderr",
     "output_type": "stream",
     "text": [
      "                                                                                                                       \r"
     ]
    },
    {
     "name": "stdout",
     "output_type": "stream",
     "text": [
      "Early stop reached\n",
      "Minimizing\n"
     ]
    },
    {
     "name": "stderr",
     "output_type": "stream",
     "text": [
      "                                                                                                                       \r"
     ]
    },
    {
     "name": "stdout",
     "output_type": "stream",
     "text": [
      "Early stop reached\n"
     ]
    },
    {
     "name": "stderr",
     "output_type": "stream",
     "text": [
      "                                                                                                                       \r"
     ]
    },
    {
     "name": "stdout",
     "output_type": "stream",
     "text": [
      "Early stop reached\n"
     ]
    },
    {
     "name": "stderr",
     "output_type": "stream",
     "text": [
      "                                                                                                                       \r"
     ]
    },
    {
     "name": "stdout",
     "output_type": "stream",
     "text": [
      "Early stop reached\n"
     ]
    },
    {
     "name": "stderr",
     "output_type": "stream",
     "text": [
      "                                                                                                                       \r"
     ]
    },
    {
     "name": "stdout",
     "output_type": "stream",
     "text": [
      "Early stop reached\n",
      "Order: 6\n",
      "Maximizing\n"
     ]
    },
    {
     "name": "stderr",
     "output_type": "stream",
     "text": [
      "                                                                                                                       \r"
     ]
    },
    {
     "name": "stdout",
     "output_type": "stream",
     "text": [
      "Early stop reached\n"
     ]
    },
    {
     "name": "stderr",
     "output_type": "stream",
     "text": [
      "                                                                                                                       \r"
     ]
    },
    {
     "name": "stdout",
     "output_type": "stream",
     "text": [
      "Early stop reached\n"
     ]
    },
    {
     "name": "stderr",
     "output_type": "stream",
     "text": [
      "                                                                                                                       \r"
     ]
    },
    {
     "name": "stdout",
     "output_type": "stream",
     "text": [
      "Early stop reached\n"
     ]
    },
    {
     "name": "stderr",
     "output_type": "stream",
     "text": [
      "                                                                                                                       \r"
     ]
    },
    {
     "name": "stdout",
     "output_type": "stream",
     "text": [
      "Early stop reached\n",
      "Minimizing\n"
     ]
    },
    {
     "name": "stderr",
     "output_type": "stream",
     "text": [
      "                                                                                                                       \r"
     ]
    },
    {
     "name": "stdout",
     "output_type": "stream",
     "text": [
      "Early stop reached\n"
     ]
    },
    {
     "name": "stderr",
     "output_type": "stream",
     "text": [
      "                                                                                                                       \r"
     ]
    },
    {
     "name": "stdout",
     "output_type": "stream",
     "text": [
      "Early stop reached\n"
     ]
    },
    {
     "name": "stderr",
     "output_type": "stream",
     "text": [
      "                                                                                                                       \r"
     ]
    },
    {
     "name": "stdout",
     "output_type": "stream",
     "text": [
      "Early stop reached\n"
     ]
    },
    {
     "name": "stderr",
     "output_type": "stream",
     "text": [
      "                                                                                                                       \r"
     ]
    },
    {
     "name": "stdout",
     "output_type": "stream",
     "text": [
      "Early stop reached\n",
      "Order: 7\n",
      "Maximizing\n"
     ]
    },
    {
     "name": "stderr",
     "output_type": "stream",
     "text": [
      "                                                                                                                       \r"
     ]
    },
    {
     "name": "stdout",
     "output_type": "stream",
     "text": [
      "Early stop reached\n"
     ]
    },
    {
     "name": "stderr",
     "output_type": "stream",
     "text": [
      "                                                                                                                       \r"
     ]
    },
    {
     "name": "stdout",
     "output_type": "stream",
     "text": [
      "Early stop reached\n"
     ]
    },
    {
     "name": "stderr",
     "output_type": "stream",
     "text": [
      "                                                                                                                       \r"
     ]
    },
    {
     "name": "stdout",
     "output_type": "stream",
     "text": [
      "Early stop reached\n"
     ]
    },
    {
     "name": "stderr",
     "output_type": "stream",
     "text": [
      "                                                                                                                       \r"
     ]
    },
    {
     "name": "stdout",
     "output_type": "stream",
     "text": [
      "Early stop reached\n",
      "Minimizing\n"
     ]
    },
    {
     "name": "stderr",
     "output_type": "stream",
     "text": [
      "                                                                                                                       \r"
     ]
    },
    {
     "name": "stdout",
     "output_type": "stream",
     "text": [
      "Early stop reached\n"
     ]
    },
    {
     "name": "stderr",
     "output_type": "stream",
     "text": [
      "                                                                                                                       \r"
     ]
    },
    {
     "name": "stdout",
     "output_type": "stream",
     "text": [
      "Early stop reached\n"
     ]
    },
    {
     "name": "stderr",
     "output_type": "stream",
     "text": [
      "                                                                                                                       \r"
     ]
    },
    {
     "name": "stdout",
     "output_type": "stream",
     "text": [
      "Early stop reached\n"
     ]
    },
    {
     "name": "stderr",
     "output_type": "stream",
     "text": [
      "                                                                                                                       \r"
     ]
    },
    {
     "name": "stdout",
     "output_type": "stream",
     "text": [
      "Early stop reached\n",
      "Order: 8\n",
      "Maximizing\n"
     ]
    },
    {
     "name": "stderr",
     "output_type": "stream",
     "text": [
      "                                                                                                                       \r"
     ]
    },
    {
     "name": "stdout",
     "output_type": "stream",
     "text": [
      "Early stop reached\n"
     ]
    },
    {
     "name": "stderr",
     "output_type": "stream",
     "text": [
      "                                                                                                                       \r"
     ]
    },
    {
     "name": "stdout",
     "output_type": "stream",
     "text": [
      "Early stop reached\n"
     ]
    },
    {
     "name": "stderr",
     "output_type": "stream",
     "text": [
      "                                                                                                                       \r"
     ]
    },
    {
     "name": "stdout",
     "output_type": "stream",
     "text": [
      "Early stop reached\n"
     ]
    },
    {
     "name": "stderr",
     "output_type": "stream",
     "text": [
      "                                                                                                                       \r"
     ]
    },
    {
     "name": "stdout",
     "output_type": "stream",
     "text": [
      "Early stop reached\n",
      "Minimizing\n"
     ]
    },
    {
     "name": "stderr",
     "output_type": "stream",
     "text": [
      "                                                                                                                       \r"
     ]
    },
    {
     "name": "stdout",
     "output_type": "stream",
     "text": [
      "Early stop reached\n"
     ]
    },
    {
     "name": "stderr",
     "output_type": "stream",
     "text": [
      "                                                                                                                       \r"
     ]
    },
    {
     "name": "stdout",
     "output_type": "stream",
     "text": [
      "Early stop reached\n"
     ]
    },
    {
     "name": "stderr",
     "output_type": "stream",
     "text": [
      "                                                                                                                       \r"
     ]
    },
    {
     "name": "stdout",
     "output_type": "stream",
     "text": [
      "Early stop reached\n"
     ]
    },
    {
     "name": "stderr",
     "output_type": "stream",
     "text": [
      "                                                                                                                       \r"
     ]
    },
    {
     "name": "stdout",
     "output_type": "stream",
     "text": [
      "Early stop reached\n",
      "Order: 9\n",
      "Maximizing\n"
     ]
    },
    {
     "name": "stderr",
     "output_type": "stream",
     "text": [
      "                                                                                                                       \r"
     ]
    },
    {
     "name": "stdout",
     "output_type": "stream",
     "text": [
      "Early stop reached\n"
     ]
    },
    {
     "name": "stderr",
     "output_type": "stream",
     "text": [
      "                                                                                                                       \r"
     ]
    },
    {
     "name": "stdout",
     "output_type": "stream",
     "text": [
      "Early stop reached\n"
     ]
    },
    {
     "name": "stderr",
     "output_type": "stream",
     "text": [
      "                                                                                                                       \r"
     ]
    },
    {
     "name": "stdout",
     "output_type": "stream",
     "text": [
      "Early stop reached\n"
     ]
    },
    {
     "name": "stderr",
     "output_type": "stream",
     "text": [
      "                                                                                                                       \r"
     ]
    },
    {
     "name": "stdout",
     "output_type": "stream",
     "text": [
      "Early stop reached\n",
      "Minimizing\n"
     ]
    },
    {
     "name": "stderr",
     "output_type": "stream",
     "text": [
      "                                                                                                                       \r"
     ]
    },
    {
     "name": "stdout",
     "output_type": "stream",
     "text": [
      "Early stop reached\n"
     ]
    },
    {
     "name": "stderr",
     "output_type": "stream",
     "text": [
      "                                                                                                                       \r"
     ]
    },
    {
     "name": "stdout",
     "output_type": "stream",
     "text": [
      "Early stop reached\n"
     ]
    },
    {
     "name": "stderr",
     "output_type": "stream",
     "text": [
      "                                                                                                                       \r"
     ]
    },
    {
     "name": "stdout",
     "output_type": "stream",
     "text": [
      "Early stop reached\n"
     ]
    },
    {
     "name": "stderr",
     "output_type": "stream",
     "text": [
      "                                                                                                                       \r"
     ]
    },
    {
     "name": "stdout",
     "output_type": "stream",
     "text": [
      "Early stop reached\n",
      "Order: 10\n",
      "Maximizing\n"
     ]
    },
    {
     "name": "stderr",
     "output_type": "stream",
     "text": [
      "                                                                                                                       \r"
     ]
    },
    {
     "name": "stdout",
     "output_type": "stream",
     "text": [
      "Early stop reached\n"
     ]
    },
    {
     "name": "stderr",
     "output_type": "stream",
     "text": [
      "                                                                                                                       \r"
     ]
    },
    {
     "name": "stdout",
     "output_type": "stream",
     "text": [
      "Early stop reached\n"
     ]
    },
    {
     "name": "stderr",
     "output_type": "stream",
     "text": [
      "                                                                                                                       \r"
     ]
    },
    {
     "name": "stdout",
     "output_type": "stream",
     "text": [
      "Early stop reached\n"
     ]
    },
    {
     "name": "stderr",
     "output_type": "stream",
     "text": [
      "                                                                                                                       \r"
     ]
    },
    {
     "name": "stdout",
     "output_type": "stream",
     "text": [
      "Early stop reached\n",
      "Minimizing\n"
     ]
    },
    {
     "name": "stderr",
     "output_type": "stream",
     "text": [
      "                                                                                                                       \r"
     ]
    },
    {
     "name": "stdout",
     "output_type": "stream",
     "text": [
      "Early stop reached\n"
     ]
    },
    {
     "name": "stderr",
     "output_type": "stream",
     "text": [
      "                                                                                                                       \r"
     ]
    },
    {
     "name": "stdout",
     "output_type": "stream",
     "text": [
      "Early stop reached\n"
     ]
    },
    {
     "name": "stderr",
     "output_type": "stream",
     "text": [
      "                                                                                                                       \r"
     ]
    },
    {
     "name": "stdout",
     "output_type": "stream",
     "text": [
      "Early stop reached\n"
     ]
    },
    {
     "name": "stderr",
     "output_type": "stream",
     "text": [
      "                                                                                                                       \r"
     ]
    },
    {
     "name": "stdout",
     "output_type": "stream",
     "text": [
      "Early stop reached\n",
      "Order: 11\n",
      "Maximizing\n"
     ]
    },
    {
     "name": "stderr",
     "output_type": "stream",
     "text": [
      "                                                                                                                       \r"
     ]
    },
    {
     "name": "stdout",
     "output_type": "stream",
     "text": [
      "Early stop reached\n"
     ]
    },
    {
     "name": "stderr",
     "output_type": "stream",
     "text": [
      "                                                                                                                       \r"
     ]
    },
    {
     "name": "stdout",
     "output_type": "stream",
     "text": [
      "Early stop reached\n"
     ]
    },
    {
     "name": "stderr",
     "output_type": "stream",
     "text": [
      "                                                                                                                       \r"
     ]
    },
    {
     "name": "stdout",
     "output_type": "stream",
     "text": [
      "Early stop reached\n"
     ]
    },
    {
     "name": "stderr",
     "output_type": "stream",
     "text": [
      "                                                                                                                       \r"
     ]
    },
    {
     "name": "stdout",
     "output_type": "stream",
     "text": [
      "Early stop reached\n",
      "Minimizing\n"
     ]
    },
    {
     "name": "stderr",
     "output_type": "stream",
     "text": [
      "                                                                                                                       \r"
     ]
    },
    {
     "name": "stdout",
     "output_type": "stream",
     "text": [
      "Early stop reached\n"
     ]
    },
    {
     "name": "stderr",
     "output_type": "stream",
     "text": [
      "                                                                                                                       \r"
     ]
    },
    {
     "name": "stdout",
     "output_type": "stream",
     "text": [
      "Early stop reached\n"
     ]
    },
    {
     "name": "stderr",
     "output_type": "stream",
     "text": [
      "                                                                                                                       \r"
     ]
    },
    {
     "name": "stdout",
     "output_type": "stream",
     "text": [
      "Early stop reached\n"
     ]
    },
    {
     "name": "stderr",
     "output_type": "stream",
     "text": [
      "                                                                                                                       \r"
     ]
    },
    {
     "name": "stdout",
     "output_type": "stream",
     "text": [
      "Early stop reached\n",
      "Order: 12\n",
      "Maximizing\n"
     ]
    },
    {
     "name": "stderr",
     "output_type": "stream",
     "text": [
      "                                                                                                                       \r"
     ]
    },
    {
     "name": "stdout",
     "output_type": "stream",
     "text": [
      "Early stop reached\n"
     ]
    },
    {
     "name": "stderr",
     "output_type": "stream",
     "text": [
      "                                                                                                                       \r"
     ]
    },
    {
     "name": "stdout",
     "output_type": "stream",
     "text": [
      "Early stop reached\n"
     ]
    },
    {
     "name": "stderr",
     "output_type": "stream",
     "text": [
      "                                                                                                                       \r"
     ]
    },
    {
     "name": "stdout",
     "output_type": "stream",
     "text": [
      "Early stop reached\n"
     ]
    },
    {
     "name": "stderr",
     "output_type": "stream",
     "text": [
      "                                                                                                                       \r"
     ]
    },
    {
     "name": "stdout",
     "output_type": "stream",
     "text": [
      "Early stop reached\n",
      "Minimizing\n"
     ]
    },
    {
     "name": "stderr",
     "output_type": "stream",
     "text": [
      "                                                                                                                       \r"
     ]
    },
    {
     "name": "stdout",
     "output_type": "stream",
     "text": [
      "Early stop reached\n"
     ]
    },
    {
     "name": "stderr",
     "output_type": "stream",
     "text": [
      "                                                                                                                       \r"
     ]
    },
    {
     "name": "stdout",
     "output_type": "stream",
     "text": [
      "Early stop reached\n"
     ]
    },
    {
     "name": "stderr",
     "output_type": "stream",
     "text": [
      "                                                                                                                       \r"
     ]
    },
    {
     "name": "stdout",
     "output_type": "stream",
     "text": [
      "Early stop reached\n"
     ]
    },
    {
     "name": "stderr",
     "output_type": "stream",
     "text": [
      "                                                                                                                       \r"
     ]
    },
    {
     "name": "stdout",
     "output_type": "stream",
     "text": [
      "Early stop reached\n",
      "Order: 13\n",
      "Maximizing\n"
     ]
    },
    {
     "name": "stderr",
     "output_type": "stream",
     "text": [
      "                                                                                                                       \r"
     ]
    },
    {
     "name": "stdout",
     "output_type": "stream",
     "text": [
      "Early stop reached\n"
     ]
    },
    {
     "name": "stderr",
     "output_type": "stream",
     "text": [
      "                                                                                                                       \r"
     ]
    },
    {
     "name": "stdout",
     "output_type": "stream",
     "text": [
      "Early stop reached\n"
     ]
    },
    {
     "name": "stderr",
     "output_type": "stream",
     "text": [
      "                                                                                                                       \r"
     ]
    },
    {
     "name": "stdout",
     "output_type": "stream",
     "text": [
      "Early stop reached\n"
     ]
    },
    {
     "name": "stderr",
     "output_type": "stream",
     "text": [
      "                                                                                                                       \r"
     ]
    },
    {
     "name": "stdout",
     "output_type": "stream",
     "text": [
      "Early stop reached\n",
      "Minimizing\n"
     ]
    },
    {
     "name": "stderr",
     "output_type": "stream",
     "text": [
      "                                                                                                                       \r"
     ]
    },
    {
     "name": "stdout",
     "output_type": "stream",
     "text": [
      "Early stop reached\n"
     ]
    },
    {
     "name": "stderr",
     "output_type": "stream",
     "text": [
      "                                                                                                                       \r"
     ]
    },
    {
     "name": "stdout",
     "output_type": "stream",
     "text": [
      "Early stop reached\n"
     ]
    },
    {
     "name": "stderr",
     "output_type": "stream",
     "text": [
      "                                                                                                                       \r"
     ]
    },
    {
     "name": "stdout",
     "output_type": "stream",
     "text": [
      "Early stop reached\n"
     ]
    },
    {
     "name": "stderr",
     "output_type": "stream",
     "text": [
      "                                                                                                                       \r"
     ]
    },
    {
     "name": "stdout",
     "output_type": "stream",
     "text": [
      "Early stop reached\n",
      "Order: 14\n",
      "Maximizing\n"
     ]
    },
    {
     "name": "stderr",
     "output_type": "stream",
     "text": [
      "                                                                                                                       \r"
     ]
    },
    {
     "name": "stdout",
     "output_type": "stream",
     "text": [
      "Early stop reached\n"
     ]
    },
    {
     "name": "stderr",
     "output_type": "stream",
     "text": [
      "                                                                                                                       \r"
     ]
    },
    {
     "name": "stdout",
     "output_type": "stream",
     "text": [
      "Early stop reached\n"
     ]
    },
    {
     "name": "stderr",
     "output_type": "stream",
     "text": [
      "                                                                                                                       \r"
     ]
    },
    {
     "name": "stdout",
     "output_type": "stream",
     "text": [
      "Early stop reached\n"
     ]
    },
    {
     "name": "stderr",
     "output_type": "stream",
     "text": [
      "                                                                                                                       \r"
     ]
    },
    {
     "name": "stdout",
     "output_type": "stream",
     "text": [
      "Early stop reached\n",
      "Minimizing\n"
     ]
    },
    {
     "name": "stderr",
     "output_type": "stream",
     "text": [
      "                                                                                                                       \r"
     ]
    },
    {
     "name": "stdout",
     "output_type": "stream",
     "text": [
      "Early stop reached\n"
     ]
    },
    {
     "name": "stderr",
     "output_type": "stream",
     "text": [
      "                                                                                                                       \r"
     ]
    },
    {
     "name": "stdout",
     "output_type": "stream",
     "text": [
      "Early stop reached\n"
     ]
    },
    {
     "name": "stderr",
     "output_type": "stream",
     "text": [
      "                                                                                                                       \r"
     ]
    },
    {
     "name": "stdout",
     "output_type": "stream",
     "text": [
      "Early stop reached\n"
     ]
    },
    {
     "name": "stderr",
     "output_type": "stream",
     "text": [
      "                                                                                                                       \r"
     ]
    },
    {
     "name": "stdout",
     "output_type": "stream",
     "text": [
      "Early stop reached\n",
      "Order: 15\n",
      "Maximizing\n"
     ]
    },
    {
     "name": "stderr",
     "output_type": "stream",
     "text": [
      "                                                                                                                       \r"
     ]
    },
    {
     "name": "stdout",
     "output_type": "stream",
     "text": [
      "Early stop reached\n"
     ]
    },
    {
     "name": "stderr",
     "output_type": "stream",
     "text": [
      "                                                                                                                       \r"
     ]
    },
    {
     "name": "stdout",
     "output_type": "stream",
     "text": [
      "Early stop reached\n"
     ]
    },
    {
     "name": "stderr",
     "output_type": "stream",
     "text": [
      "                                                                                                                       \r"
     ]
    },
    {
     "name": "stdout",
     "output_type": "stream",
     "text": [
      "Early stop reached\n"
     ]
    },
    {
     "name": "stderr",
     "output_type": "stream",
     "text": [
      "                                                                                                                       \r"
     ]
    },
    {
     "name": "stdout",
     "output_type": "stream",
     "text": [
      "Early stop reached\n",
      "Minimizing\n"
     ]
    },
    {
     "name": "stderr",
     "output_type": "stream",
     "text": [
      "                                                                                                                       \r"
     ]
    },
    {
     "name": "stdout",
     "output_type": "stream",
     "text": [
      "Early stop reached\n"
     ]
    },
    {
     "name": "stderr",
     "output_type": "stream",
     "text": [
      "                                                                                                                       \r"
     ]
    },
    {
     "name": "stdout",
     "output_type": "stream",
     "text": [
      "Early stop reached\n"
     ]
    },
    {
     "name": "stderr",
     "output_type": "stream",
     "text": [
      "                                                                                                                       \r"
     ]
    },
    {
     "name": "stdout",
     "output_type": "stream",
     "text": [
      "Early stop reached\n"
     ]
    },
    {
     "name": "stderr",
     "output_type": "stream",
     "text": [
      "                                                                                                                       \r"
     ]
    },
    {
     "name": "stdout",
     "output_type": "stream",
     "text": [
      "Early stop reached\n",
      "Order: 16\n",
      "Maximizing\n"
     ]
    },
    {
     "name": "stderr",
     "output_type": "stream",
     "text": [
      "                                                                                                                       \r"
     ]
    },
    {
     "name": "stdout",
     "output_type": "stream",
     "text": [
      "Early stop reached\n"
     ]
    },
    {
     "name": "stderr",
     "output_type": "stream",
     "text": [
      "                                                                                                                       \r"
     ]
    },
    {
     "name": "stdout",
     "output_type": "stream",
     "text": [
      "Early stop reached\n"
     ]
    },
    {
     "name": "stderr",
     "output_type": "stream",
     "text": [
      "                                                                                                                       \r"
     ]
    },
    {
     "name": "stdout",
     "output_type": "stream",
     "text": [
      "Early stop reached\n"
     ]
    },
    {
     "name": "stderr",
     "output_type": "stream",
     "text": [
      "                                                                                                                       \r"
     ]
    },
    {
     "name": "stdout",
     "output_type": "stream",
     "text": [
      "Early stop reached\n",
      "Minimizing\n"
     ]
    },
    {
     "name": "stderr",
     "output_type": "stream",
     "text": [
      "                                                                                                                       \r"
     ]
    },
    {
     "name": "stdout",
     "output_type": "stream",
     "text": [
      "Early stop reached\n"
     ]
    },
    {
     "name": "stderr",
     "output_type": "stream",
     "text": [
      "                                                                                                                       \r"
     ]
    },
    {
     "name": "stdout",
     "output_type": "stream",
     "text": [
      "Early stop reached\n"
     ]
    },
    {
     "name": "stderr",
     "output_type": "stream",
     "text": [
      "                                                                                                                       \r"
     ]
    },
    {
     "name": "stdout",
     "output_type": "stream",
     "text": [
      "Early stop reached\n"
     ]
    },
    {
     "name": "stderr",
     "output_type": "stream",
     "text": [
      "                                                                                                                       \r"
     ]
    },
    {
     "name": "stdout",
     "output_type": "stream",
     "text": [
      "Early stop reached\n",
      "Order: 17\n",
      "Maximizing\n"
     ]
    },
    {
     "name": "stderr",
     "output_type": "stream",
     "text": [
      "                                                                                                                       \r"
     ]
    },
    {
     "name": "stdout",
     "output_type": "stream",
     "text": [
      "Early stop reached\n"
     ]
    },
    {
     "name": "stderr",
     "output_type": "stream",
     "text": [
      "                                                                                                                       \r"
     ]
    },
    {
     "name": "stdout",
     "output_type": "stream",
     "text": [
      "Early stop reached\n"
     ]
    },
    {
     "name": "stderr",
     "output_type": "stream",
     "text": [
      "                                                                                                                       \r"
     ]
    },
    {
     "name": "stdout",
     "output_type": "stream",
     "text": [
      "Early stop reached\n"
     ]
    },
    {
     "name": "stderr",
     "output_type": "stream",
     "text": [
      "                                                                                                                       \r"
     ]
    },
    {
     "name": "stdout",
     "output_type": "stream",
     "text": [
      "Early stop reached\n",
      "Minimizing\n"
     ]
    },
    {
     "name": "stderr",
     "output_type": "stream",
     "text": [
      "                                                                                                                       \r"
     ]
    },
    {
     "name": "stdout",
     "output_type": "stream",
     "text": [
      "Early stop reached\n"
     ]
    },
    {
     "name": "stderr",
     "output_type": "stream",
     "text": [
      "                                                                                                                       \r"
     ]
    },
    {
     "name": "stdout",
     "output_type": "stream",
     "text": [
      "Early stop reached\n"
     ]
    },
    {
     "name": "stderr",
     "output_type": "stream",
     "text": [
      "                                                                                                                       \r"
     ]
    },
    {
     "name": "stdout",
     "output_type": "stream",
     "text": [
      "Early stop reached\n"
     ]
    },
    {
     "name": "stderr",
     "output_type": "stream",
     "text": [
      "                                                                                                                       \r"
     ]
    },
    {
     "name": "stdout",
     "output_type": "stream",
     "text": [
      "Early stop reached\n",
      "Order: 18\n",
      "Maximizing\n"
     ]
    },
    {
     "name": "stderr",
     "output_type": "stream",
     "text": [
      "                                                                                                                       \r"
     ]
    },
    {
     "name": "stdout",
     "output_type": "stream",
     "text": [
      "Early stop reached\n"
     ]
    },
    {
     "name": "stderr",
     "output_type": "stream",
     "text": [
      "                                                                                                                       \r"
     ]
    },
    {
     "name": "stdout",
     "output_type": "stream",
     "text": [
      "Early stop reached\n"
     ]
    },
    {
     "name": "stderr",
     "output_type": "stream",
     "text": [
      "                                                                                                                       \r"
     ]
    },
    {
     "name": "stdout",
     "output_type": "stream",
     "text": [
      "Early stop reached\n"
     ]
    },
    {
     "name": "stderr",
     "output_type": "stream",
     "text": [
      "                                                                                                                       \r"
     ]
    },
    {
     "name": "stdout",
     "output_type": "stream",
     "text": [
      "Early stop reached\n",
      "Minimizing\n"
     ]
    },
    {
     "name": "stderr",
     "output_type": "stream",
     "text": [
      "                                                                                                                       \r"
     ]
    },
    {
     "name": "stdout",
     "output_type": "stream",
     "text": [
      "Early stop reached\n"
     ]
    },
    {
     "name": "stderr",
     "output_type": "stream",
     "text": [
      "                                                                                                                       \r"
     ]
    },
    {
     "name": "stdout",
     "output_type": "stream",
     "text": [
      "Early stop reached\n"
     ]
    },
    {
     "name": "stderr",
     "output_type": "stream",
     "text": [
      "                                                                                                                       \r"
     ]
    },
    {
     "name": "stdout",
     "output_type": "stream",
     "text": [
      "Early stop reached\n"
     ]
    },
    {
     "name": "stderr",
     "output_type": "stream",
     "text": [
      "                                                                                                                       \r"
     ]
    },
    {
     "name": "stdout",
     "output_type": "stream",
     "text": [
      "Early stop reached\n",
      "Order: 19\n",
      "Maximizing\n"
     ]
    },
    {
     "name": "stderr",
     "output_type": "stream",
     "text": [
      "                                                                                                                       \r"
     ]
    },
    {
     "name": "stdout",
     "output_type": "stream",
     "text": [
      "Early stop reached\n"
     ]
    },
    {
     "name": "stderr",
     "output_type": "stream",
     "text": [
      "                                                                                                                       \r"
     ]
    },
    {
     "name": "stdout",
     "output_type": "stream",
     "text": [
      "Early stop reached\n"
     ]
    },
    {
     "name": "stderr",
     "output_type": "stream",
     "text": [
      "                                                                                                                       \r"
     ]
    },
    {
     "name": "stdout",
     "output_type": "stream",
     "text": [
      "Early stop reached\n"
     ]
    },
    {
     "name": "stderr",
     "output_type": "stream",
     "text": [
      "                                                                                                                       \r"
     ]
    },
    {
     "name": "stdout",
     "output_type": "stream",
     "text": [
      "Early stop reached\n",
      "Minimizing\n"
     ]
    },
    {
     "name": "stderr",
     "output_type": "stream",
     "text": [
      "                                                                                                                       \r"
     ]
    },
    {
     "name": "stdout",
     "output_type": "stream",
     "text": [
      "Early stop reached\n"
     ]
    },
    {
     "name": "stderr",
     "output_type": "stream",
     "text": [
      "                                                                                                                       \r"
     ]
    },
    {
     "name": "stdout",
     "output_type": "stream",
     "text": [
      "Early stop reached\n"
     ]
    },
    {
     "name": "stderr",
     "output_type": "stream",
     "text": [
      "                                                                                                                       \r"
     ]
    },
    {
     "name": "stdout",
     "output_type": "stream",
     "text": [
      "Early stop reached\n"
     ]
    },
    {
     "name": "stderr",
     "output_type": "stream",
     "text": [
      "                                                                                                                       "
     ]
    },
    {
     "name": "stdout",
     "output_type": "stream",
     "text": [
      "Early stop reached\n"
     ]
    },
    {
     "name": "stderr",
     "output_type": "stream",
     "text": [
      "\r"
     ]
    }
   ],
   "source": [
    "# Running Simulated annealing\n",
    "# Optimization per order\n",
    "\n",
    "repeat = 2 # play with this parameter. 10 took ~160 seconds\n",
    "sa_max_vals_k = np.zeros((nmeas,norders))\n",
    "sa_min_vals_k = np.zeros((nmeas,norders))\n",
    "\n",
    "for k in range(3,modules):\n",
    "    print('Order:',k)\n",
    "    # Maximizing\n",
    "    print('Maximizing')\n",
    "    sa_out = [simulated_annealing(X, order=k, repeat=repeat, metric=meas, largest=True) for meas in meas_name]\n",
    "    sa_max_partitions = [x[0] for x in sa_out]\n",
    "    sa_max_scores = [np.vstack(x[1]) for x in sa_out]\n",
    "    sa_max_vals_k[:,k-3] = np.squeeze(np.max(sa_max_scores,axis=1))\n",
    "    \n",
    "    # Minimizing\n",
    "    print('Minimizing')\n",
    "    sa_out = [simulated_annealing(X, order=k, repeat=repeat, metric=meas, largest=False) for meas in meas_name]\n",
    "    sa_min_partitions = [x[0] for x in sa_out]\n",
    "    sa_min_scores = [np.hstack(x[1]) for x in sa_out]\n",
    "    sa_min_vals_k[:,k-3] = np.squeeze(np.min(sa_min_scores,axis=1))"
   ]
  },
  {
   "cell_type": "code",
   "execution_count": 16,
   "id": "fc040105-7901-4aba-8401-0d8da3e242f4",
   "metadata": {
    "execution": {
     "iopub.execute_input": "2024-06-15T21:57:11.200385Z",
     "iopub.status.busy": "2024-06-15T21:57:11.200385Z",
     "iopub.status.idle": "2024-06-15T21:57:11.631703Z",
     "shell.execute_reply": "2024-06-15T21:57:11.631437Z",
     "shell.execute_reply.started": "2024-06-15T21:57:11.200385Z"
    }
   },
   "outputs": [
    {
     "data": {
      "image/png": "[encoded data removed]",
      "text/plain": [
       "<Figure size 1600x400 with 4 Axes>"
      ]
     },
     "metadata": {},
     "output_type": "display_data"
    }
   ],
   "source": [
    "# Plotting\n",
    "plt.figure(figsize=(16,4))\n",
    "for m_id, meas in enumerate(meas_name):\n",
    "    # Plotting error per orde\n",
    "    plt.subplot(1,4,m_id+1)\n",
    "    plt.axhline(y=0,color='k')    \n",
    "    plt.plot(xx,sa_max_vals_k[m_id,:-1]-max_vals_k[:-1,m_id], 'r', label='max')\n",
    "    plt.plot(xx,sa_min_vals_k[m_id,:-1]-min_vals_k[:-1,m_id], 'b', label='min')\n",
    "    plt.xlim([2,modules])\n",
    "    plt.ylim([-1.1,1.1])\n",
    "    plt.title(meas.upper())\n",
    "    plt.legend()\n",
    "    plt.xticks(xx)\n",
    "    plt.xlabel('Order of interaction')\n",
    "    if m_id==0:\n",
    "        plt.ylabel('Error')\n",
    "    else:\n",
    "        plt.yticks([])\n",
    "    \n",
    "\n",
    "plt.tight_layout()\n",
    "plt.show()"
   ]
  },
  {
   "cell_type": "markdown",
   "id": "16848bce-19c4-4a0f-b049-4f664b867ca1",
   "metadata": {},
   "source": [
    "### Bonus track: exaustive approach for all subjects in less than one hour\n",
    "Uses paralellization and writes the output into disk to avoid RAM issues.\n",
    "\n",
    "To read the data of each subject, load all the data of each subject from disk"
   ]
  },
  {
   "cell_type": "code",
   "execution_count": 18,
   "id": "69bbae20-c5b3-4013-a44e-0bd55a81fa86",
   "metadata": {
    "execution": {
     "iopub.execute_input": "2024-06-15T21:58:11.846239Z",
     "iopub.status.busy": "2024-06-15T21:58:11.846239Z",
     "iopub.status.idle": "2024-06-15T21:59:41.927880Z",
     "shell.execute_reply": "2024-06-15T21:59:41.927880Z",
     "shell.execute_reply.started": "2024-06-15T21:58:11.846239Z"
    }
   },
   "outputs": [],
   "source": [
    "from joblib import Parallel, delayed\n",
    "outputfolder = \"C:\\\\Users\\\\rherz\\\\OneDrive\\\\Documents\\\\Projects\\\\Frankfurt2024\\\\Tutorials\\\\hois_output\\\\\"\n",
    "# The parallelized processing\n",
    "def process_subject(sel_sub):\n",
    "        X = data[sel_sub,:,:].T\n",
    "        # Creating output\n",
    "        save_func = partial(        \n",
    "        batch_to_csv,\n",
    "        N=20,\n",
    "        output_path=outputfolder+'sub-'+str(sel_sub)+'_k-{order}_batch-{bn}.tsv'\n",
    "        )\n",
    "        multi_order_measures(X, use_cpu=True, batch_size=10000,\n",
    "                             batch_data_collector=save_func, \n",
    "                             batch_aggregation=lambda x: x)\n",
    "        return None\n",
    "\n",
    "# Number of CPUs to use\n",
    "num_cpus = 4  # Set to the number of CPUs you want to use\n",
    "\n",
    "# Use joblib to parallelize\n",
    "results_list = Parallel(n_jobs=num_cpus)(delayed(process_subject)(i) for i in range(num_cpus))\n"
   ]
  }
 ],
 "metadata": {
  "kernelspec": {
   "display_name": "Python 3 (ipykernel)",
   "language": "python",
   "name": "python3"
  },
  "language_info": {
   "codemirror_mode": {
    "name": "ipython",
    "version": 3
   },
   "file_extension": ".py",
   "mimetype": "text/x-python",
   "name": "python",
   "nbconvert_exporter": "python",
   "pygments_lexer": "ipython3",
   "version": "3.12.3"
  }
 },
 "nbformat": 4,
 "nbformat_minor": 5
}
